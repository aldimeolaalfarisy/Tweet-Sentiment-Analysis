{
 "cells": [
  {
   "cell_type": "markdown",
   "id": "254631f5",
   "metadata": {},
   "source": [
    "# Recurent Neural Network (RNN)"
   ]
  },
  {
   "cell_type": "markdown",
   "id": "b4276e1f",
   "metadata": {},
   "source": [
    "Recurrent Neural Network (RNN) is a special type of artificial neural network adapted to work for time series data or data that involves sequences. Ordinary feedforward neural networks are only meant for data points that are independent of each other. However, if we have data in a sequence such that one data point depends upon the previous data point, we need to modify the neural network to incorporate the dependencies between these data points. RNNs have the concept of “memory” that helps them store the states or information of previous inputs to generate the next output of the sequence."
   ]
  },
  {
   "cell_type": "markdown",
   "id": "d6789eb3",
   "metadata": {},
   "source": [
    "![image](https://miro.medium.com/v2/resize:fit:720/format:webp/1*88v6lf17GqXSIPnQNA5ktQ.png)"
   ]
  },
  {
   "cell_type": "markdown",
   "id": "6658ef89",
   "metadata": {},
   "source": [
    "## Load Libraries and Dataset"
   ]
  },
  {
   "cell_type": "code",
   "execution_count": 1,
   "id": "09e35254",
   "metadata": {},
   "outputs": [],
   "source": [
    "# Import required libraries\n",
    "\n",
    "import pandas as pd\n",
    "import numpy as np\n",
    "import seaborn as sns\n",
    "import matplotlib.pyplot as plt\n",
    "import sqlite3\n",
    "import pickle\n",
    "from tensorflow.keras.preprocessing.text import Tokenizer\n",
    "from tensorflow.keras.preprocessing.sequence import pad_sequences\n",
    "from collections import defaultdict\n",
    "from sklearn.model_selection import train_test_split\n",
    "from tensorflow.keras import layers\n",
    "from tensorflow.keras.models import Sequential\n",
    "from tensorflow.keras.layers import Dense, Embedding, LSTM, SpatialDropout1D, SimpleRNN, Activation\n",
    "from tensorflow.keras import optimizers\n",
    "from tensorflow.keras.callbacks import EarlyStopping, TensorBoard\n",
    "from tensorflow.keras.layers import Flatten\n",
    "from tensorflow.keras import backend as K\n",
    "from sklearn import metrics\n",
    "from sklearn.metrics import classification_report\n",
    "from sklearn.metrics import accuracy_score\n",
    "from sklearn.model_selection import KFold\n",
    "from keras.models import load_model\n",
    "import re"
   ]
  },
  {
   "cell_type": "code",
   "execution_count": 2,
   "id": "98074304",
   "metadata": {},
   "outputs": [
    {
     "data": {
      "text/html": [
       "<div>\n",
       "<style scoped>\n",
       "    .dataframe tbody tr th:only-of-type {\n",
       "        vertical-align: middle;\n",
       "    }\n",
       "\n",
       "    .dataframe tbody tr th {\n",
       "        vertical-align: top;\n",
       "    }\n",
       "\n",
       "    .dataframe thead th {\n",
       "        text-align: right;\n",
       "    }\n",
       "</style>\n",
       "<table border=\"1\" class=\"dataframe\">\n",
       "  <thead>\n",
       "    <tr style=\"text-align: right;\">\n",
       "      <th></th>\n",
       "      <th>Tweet</th>\n",
       "      <th>Label</th>\n",
       "    </tr>\n",
       "  </thead>\n",
       "  <tbody>\n",
       "    <tr>\n",
       "      <th>0</th>\n",
       "      <td>warung ini dimiliki oleh pengusaha pabrik tahu...</td>\n",
       "      <td>positive</td>\n",
       "    </tr>\n",
       "    <tr>\n",
       "      <th>1</th>\n",
       "      <td>mohon ulama lurus dan k mmbri hujjah partai ap...</td>\n",
       "      <td>neutral</td>\n",
       "    </tr>\n",
       "    <tr>\n",
       "      <th>2</th>\n",
       "      <td>lokasi strategis di jalan sumatra bandung temp...</td>\n",
       "      <td>positive</td>\n",
       "    </tr>\n",
       "    <tr>\n",
       "      <th>3</th>\n",
       "      <td>betapa bahagia nya diri ini saat unboxing pake...</td>\n",
       "      <td>positive</td>\n",
       "    </tr>\n",
       "    <tr>\n",
       "      <th>4</th>\n",
       "      <td>aduh jadi mahasiswa jangan sombong dong kasih ...</td>\n",
       "      <td>negative</td>\n",
       "    </tr>\n",
       "  </tbody>\n",
       "</table>\n",
       "</div>"
      ],
      "text/plain": [
       "                                               Tweet     Label\n",
       "0  warung ini dimiliki oleh pengusaha pabrik tahu...  positive\n",
       "1  mohon ulama lurus dan k mmbri hujjah partai ap...   neutral\n",
       "2  lokasi strategis di jalan sumatra bandung temp...  positive\n",
       "3  betapa bahagia nya diri ini saat unboxing pake...  positive\n",
       "4  aduh jadi mahasiswa jangan sombong dong kasih ...  negative"
      ]
     },
     "execution_count": 2,
     "metadata": {},
     "output_type": "execute_result"
    }
   ],
   "source": [
    "# Load dataset from database\n",
    "\n",
    "db = sqlite3.connect('C:/Users/ASUS/Documents/Platinum Challenge/database.db', check_same_thread = False)\n",
    "q_data = 'SELECT * FROM data'\n",
    "data = pd.read_sql_query(q_data, db)\n",
    "data.head()"
   ]
  },
  {
   "cell_type": "code",
   "execution_count": 3,
   "id": "5f8aabe6",
   "metadata": {},
   "outputs": [
    {
     "data": {
      "text/plain": [
       "positive    6383\n",
       "negative    3412\n",
       "neutral     1138\n",
       "Name: Label, dtype: int64"
      ]
     },
     "execution_count": 3,
     "metadata": {},
     "output_type": "execute_result"
    }
   ],
   "source": [
    "# Data distribution check\n",
    "\n",
    "data['Label'].value_counts()"
   ]
  },
  {
   "cell_type": "markdown",
   "id": "2a81f1eb",
   "metadata": {},
   "source": [
    "## Feature-Label Classification"
   ]
  },
  {
   "cell_type": "code",
   "execution_count": 4,
   "id": "40cadbba",
   "metadata": {},
   "outputs": [],
   "source": [
    "# Group data tweet\n",
    "\n",
    "pos_tweet = data.loc[data['Label']=='positive'].Tweet.tolist()\n",
    "neg_tweet = data.loc[data['Label']=='negative'].Tweet.tolist()\n",
    "neu_tweet = data.loc[data['Label']=='neutral'].Tweet.tolist()\n",
    "\n",
    "# Group data label\n",
    "\n",
    "pos_label = data.loc[data['Label']=='positive'].Label.tolist()\n",
    "neg_label = data.loc[data['Label']=='negative'].Label.tolist()\n",
    "neu_label = data.loc[data['Label']=='neutral'].Label.tolist()"
   ]
  },
  {
   "cell_type": "code",
   "execution_count": 5,
   "id": "e04ebb7a",
   "metadata": {},
   "outputs": [
    {
     "name": "stdout",
     "output_type": "stream",
     "text": [
      "Positive: 6383, Negative: 1138, Neutral: 3412\n",
      "Total data: 10933\n",
      "Total labels: 10933\n"
     ]
    }
   ],
   "source": [
    "# Final sentiment data check\n",
    "\n",
    "total_data = pos_tweet + neg_tweet + neu_tweet\n",
    "labels = pos_label + neu_label + neg_label\n",
    "\n",
    "print(\"Positive: %s, Negative: %s, Neutral: %s\" % (len(pos_tweet), len(neu_tweet), len(neg_tweet)))\n",
    "print(\"Total data: %s\" % len(total_data))\n",
    "print(\"Total labels: %s\" % len(labels))"
   ]
  },
  {
   "cell_type": "markdown",
   "id": "a9ac6e5f",
   "metadata": {},
   "source": [
    "## Feature Extraction"
   ]
  },
  {
   "cell_type": "markdown",
   "id": "420e7939",
   "metadata": {},
   "source": [
    "Now we will perform feature extraction. The feature extraction that we do is the tokenizer (converts text into a sequence of integers or into a vector) and pad sequence (converts a list of sequences into a 2D vector/array). The feature extraction results will be stored with the help of the pickle library."
   ]
  },
  {
   "cell_type": "code",
   "execution_count": 6,
   "id": "bca677f6",
   "metadata": {},
   "outputs": [
    {
     "name": "stdout",
     "output_type": "stream",
     "text": [
      "tokenizer.pickle has created!\n",
      "x_pad_sequences.pickle has created!\n"
     ]
    }
   ],
   "source": [
    "# Tokenizer and pad sequence\n",
    "\n",
    "max_features = 100000\n",
    "tokenizer = Tokenizer(num_words=max_features, split=' ', lower=True)\n",
    "tokenizer.fit_on_texts(total_data)\n",
    "with open('tokenizer.pickle', 'wb') as handle:\n",
    "    pickle.dump(tokenizer, handle, protocol=pickle.HIGHEST_PROTOCOL)\n",
    "    print(\"tokenizer.pickle has created!\")\n",
    "\n",
    "X = tokenizer.texts_to_sequences(total_data)\n",
    "\n",
    "vocab_size = len(tokenizer.word_index)\n",
    "maxlen = max(len(x) for x in X)\n",
    "\n",
    "X = pad_sequences(X)\n",
    "with open('x_pad_sequences.pickle', 'wb') as handle:\n",
    "    pickle.dump(X, handle, protocol=pickle.HIGHEST_PROTOCOL)\n",
    "    print(\"x_pad_sequences.pickle has created!\")"
   ]
  },
  {
   "cell_type": "code",
   "execution_count": 7,
   "id": "5bea8943",
   "metadata": {},
   "outputs": [
    {
     "name": "stdout",
     "output_type": "stream",
     "text": [
      "y_labels.pickle has created!\n"
     ]
    }
   ],
   "source": [
    "# Feature extraction for labels\n",
    "\n",
    "Y = pd.get_dummies(labels)\n",
    "Y = Y.values\n",
    "\n",
    "with open('y_labels.pickle', 'wb') as handle:\n",
    "    pickle.dump(Y, handle, protocol=pickle.HIGHEST_PROTOCOL)\n",
    "    print(\"y_labels.pickle has created!\")"
   ]
  },
  {
   "cell_type": "markdown",
   "id": "c4f00b64",
   "metadata": {},
   "source": [
    "## Train-Test Data Split"
   ]
  },
  {
   "cell_type": "markdown",
   "id": "b6460098",
   "metadata": {},
   "source": [
    "Now we prepare a train and test dataset with split train and test data for training and testing the dataset."
   ]
  },
  {
   "cell_type": "code",
   "execution_count": 8,
   "id": "70e99d57",
   "metadata": {},
   "outputs": [],
   "source": [
    "# Split train-test data with proportion 80:20\n",
    "\n",
    "file = open(\"x_pad_sequences.pickle\",'rb')\n",
    "X = pickle.load(file)\n",
    "file.close()\n",
    "\n",
    "file = open(\"y_labels.pickle\",'rb')\n",
    "Y = pickle.load(file)\n",
    "file.close()\n",
    "\n",
    "X_train, X_test, y_train, y_test = train_test_split(X, Y, test_size=0.2, random_state=42)"
   ]
  },
  {
   "cell_type": "markdown",
   "id": "1e5c5e43",
   "metadata": {},
   "source": [
    "## Model Training"
   ]
  },
  {
   "cell_type": "markdown",
   "id": "d605c4a6",
   "metadata": {},
   "source": [
    "Next, we'll do model training using the RNN algorithm. Then we also do cross validation 5 times to check performance stability."
   ]
  },
  {
   "cell_type": "code",
   "execution_count": 9,
   "id": "c66820fe",
   "metadata": {
    "scrolled": false
   },
   "outputs": [
    {
     "name": "stdout",
     "output_type": "stream",
     "text": [
      "Epoch 1/50\n",
      "274/274 [==============================] - 60s 211ms/step - loss: 0.7219 - accuracy: 0.7114 - val_loss: 0.5964 - val_accuracy: 0.7700\n",
      "Epoch 2/50\n",
      "274/274 [==============================] - 50s 183ms/step - loss: 0.5316 - accuracy: 0.7954 - val_loss: 0.5367 - val_accuracy: 0.7910\n",
      "Epoch 3/50\n",
      "274/274 [==============================] - 61s 223ms/step - loss: 0.4591 - accuracy: 0.8189 - val_loss: 0.5365 - val_accuracy: 0.7984\n",
      "Epoch 4/50\n",
      "274/274 [==============================] - 66s 242ms/step - loss: 0.3972 - accuracy: 0.8403 - val_loss: 0.5113 - val_accuracy: 0.8048\n",
      "Epoch 5/50\n",
      "274/274 [==============================] - 65s 239ms/step - loss: 0.3580 - accuracy: 0.8576 - val_loss: 0.5543 - val_accuracy: 0.7846\n",
      "Epoch 6/50\n",
      "274/274 [==============================] - 60s 219ms/step - loss: 0.3043 - accuracy: 0.8820 - val_loss: 0.5498 - val_accuracy: 0.7929\n",
      "Epoch 6: early stopping\n",
      "69/69 [==============================] - 1s 6ms/step\n",
      "Training ke- 1\n",
      "              precision    recall  f1-score   support\n",
      "\n",
      "           0       0.68      0.78      0.73       681\n",
      "           1       0.30      0.05      0.08       235\n",
      "           2       0.87      0.94      0.90      1271\n",
      "\n",
      "    accuracy                           0.79      2187\n",
      "   macro avg       0.62      0.59      0.57      2187\n",
      "weighted avg       0.75      0.79      0.76      2187\n",
      "\n",
      "======================================================\n",
      "Epoch 1/50\n",
      "274/274 [==============================] - 68s 241ms/step - loss: 0.7235 - accuracy: 0.7090 - val_loss: 0.6323 - val_accuracy: 0.7686\n",
      "Epoch 2/50\n",
      "274/274 [==============================] - 59s 214ms/step - loss: 0.5383 - accuracy: 0.7906 - val_loss: 0.5496 - val_accuracy: 0.7759\n",
      "Epoch 3/50\n",
      "274/274 [==============================] - 67s 243ms/step - loss: 0.4704 - accuracy: 0.8147 - val_loss: 0.5284 - val_accuracy: 0.7837\n",
      "Epoch 4/50\n",
      "274/274 [==============================] - 66s 241ms/step - loss: 0.4119 - accuracy: 0.8347 - val_loss: 0.5208 - val_accuracy: 0.7988\n",
      "Epoch 5/50\n",
      "274/274 [==============================] - 64s 232ms/step - loss: 0.3539 - accuracy: 0.8551 - val_loss: 0.5310 - val_accuracy: 0.7924\n",
      "Epoch 6/50\n",
      "274/274 [==============================] - 62s 227ms/step - loss: 0.3068 - accuracy: 0.8831 - val_loss: 0.5479 - val_accuracy: 0.7974\n",
      "Epoch 6: early stopping\n",
      "69/69 [==============================] - 1s 6ms/step\n",
      "Training ke- 2\n",
      "              precision    recall  f1-score   support\n",
      "\n",
      "           0       0.68      0.80      0.73       681\n",
      "           1       0.20      0.02      0.03       235\n",
      "           2       0.88      0.94      0.91      1271\n",
      "\n",
      "    accuracy                           0.80      2187\n",
      "   macro avg       0.58      0.59      0.56      2187\n",
      "weighted avg       0.74      0.80      0.76      2187\n",
      "\n",
      "======================================================\n",
      "Epoch 1/50\n",
      "274/274 [==============================] - 68s 234ms/step - loss: 0.7153 - accuracy: 0.7193 - val_loss: 0.6260 - val_accuracy: 0.7558\n",
      "Epoch 2/50\n",
      "274/274 [==============================] - 70s 257ms/step - loss: 0.5296 - accuracy: 0.7935 - val_loss: 0.5352 - val_accuracy: 0.7938\n",
      "Epoch 3/50\n",
      "274/274 [==============================] - 71s 261ms/step - loss: 0.4660 - accuracy: 0.8165 - val_loss: 0.5399 - val_accuracy: 0.7892\n",
      "Epoch 4/50\n",
      "274/274 [==============================] - 70s 254ms/step - loss: 0.4116 - accuracy: 0.8349 - val_loss: 0.5298 - val_accuracy: 0.8016\n",
      "Epoch 5/50\n",
      "274/274 [==============================] - 65s 238ms/step - loss: 0.3606 - accuracy: 0.8557 - val_loss: 0.5141 - val_accuracy: 0.7929\n",
      "Epoch 6/50\n",
      "274/274 [==============================] - 58s 213ms/step - loss: 0.3163 - accuracy: 0.8769 - val_loss: 0.5482 - val_accuracy: 0.7997\n",
      "Epoch 7/50\n",
      "274/274 [==============================] - 63s 231ms/step - loss: 0.2679 - accuracy: 0.8989 - val_loss: 0.5869 - val_accuracy: 0.7819\n",
      "Epoch 7: early stopping\n",
      "69/69 [==============================] - 1s 6ms/step\n",
      "Training ke- 3\n",
      "              precision    recall  f1-score   support\n",
      "\n",
      "           0       0.69      0.71      0.70       681\n",
      "           1       0.28      0.07      0.11       235\n",
      "           2       0.85      0.95      0.90      1271\n",
      "\n",
      "    accuracy                           0.78      2187\n",
      "   macro avg       0.61      0.58      0.57      2187\n",
      "weighted avg       0.74      0.78      0.75      2187\n",
      "\n",
      "======================================================\n",
      "Epoch 1/50\n",
      "274/274 [==============================] - 72s 255ms/step - loss: 0.7419 - accuracy: 0.6941 - val_loss: 0.6062 - val_accuracy: 0.7732\n",
      "Epoch 2/50\n",
      "274/274 [==============================] - 69s 251ms/step - loss: 0.5371 - accuracy: 0.7906 - val_loss: 0.5564 - val_accuracy: 0.7915\n",
      "Epoch 3/50\n",
      "274/274 [==============================] - 69s 250ms/step - loss: 0.4628 - accuracy: 0.8167 - val_loss: 0.5027 - val_accuracy: 0.7965\n",
      "Epoch 4/50\n",
      "274/274 [==============================] - 65s 238ms/step - loss: 0.4036 - accuracy: 0.8375 - val_loss: 0.5005 - val_accuracy: 0.7979\n",
      "Epoch 5/50\n",
      "274/274 [==============================] - 62s 225ms/step - loss: 0.3598 - accuracy: 0.8573 - val_loss: 0.5318 - val_accuracy: 0.7901\n",
      "Epoch 6/50\n",
      "274/274 [==============================] - 65s 237ms/step - loss: 0.3110 - accuracy: 0.8821 - val_loss: 0.5390 - val_accuracy: 0.7924\n",
      "Epoch 6: early stopping\n",
      "69/69 [==============================] - 1s 6ms/step\n",
      "Training ke- 4\n",
      "              precision    recall  f1-score   support\n",
      "\n",
      "           0       0.68      0.75      0.72       681\n",
      "           1       0.37      0.10      0.15       235\n",
      "           2       0.87      0.94      0.91      1271\n",
      "\n",
      "    accuracy                           0.79      2187\n",
      "   macro avg       0.64      0.60      0.59      2187\n",
      "weighted avg       0.76      0.79      0.77      2187\n",
      "\n",
      "======================================================\n",
      "Epoch 1/50\n",
      "274/274 [==============================] - 69s 238ms/step - loss: 0.7529 - accuracy: 0.6856 - val_loss: 0.5881 - val_accuracy: 0.7718\n",
      "Epoch 2/50\n",
      "274/274 [==============================] - 65s 238ms/step - loss: 0.5374 - accuracy: 0.7917 - val_loss: 0.5539 - val_accuracy: 0.7947\n",
      "Epoch 3/50\n",
      "274/274 [==============================] - 65s 238ms/step - loss: 0.4621 - accuracy: 0.8153 - val_loss: 0.5136 - val_accuracy: 0.7988\n",
      "Epoch 4/50\n",
      "274/274 [==============================] - 62s 225ms/step - loss: 0.4105 - accuracy: 0.8320 - val_loss: 0.5348 - val_accuracy: 0.7988\n",
      "Epoch 5/50\n",
      "274/274 [==============================] - 63s 229ms/step - loss: 0.3592 - accuracy: 0.8559 - val_loss: 0.5223 - val_accuracy: 0.7965\n",
      "Epoch 5: early stopping\n",
      "69/69 [==============================] - 2s 6ms/step\n",
      "Training ke- 5\n",
      "              precision    recall  f1-score   support\n",
      "\n",
      "           0       0.64      0.88      0.74       681\n",
      "           1       0.18      0.01      0.02       235\n",
      "           2       0.92      0.90      0.91      1271\n",
      "\n",
      "    accuracy                           0.80      2187\n",
      "   macro avg       0.58      0.60      0.56      2187\n",
      "weighted avg       0.75      0.80      0.76      2187\n",
      "\n",
      "======================================================\n",
      "\n",
      "\n",
      "\n",
      "Rata-rata Accuracy:  0.7922\n"
     ]
    }
   ],
   "source": [
    "# Model training and cross validation\n",
    "\n",
    "kf = KFold(n_splits=5,random_state=42,shuffle=True)\n",
    "\n",
    "accuracies = []\n",
    "\n",
    "y = Y\n",
    "\n",
    "embed_dim = 100\n",
    "units = 64\n",
    "\n",
    "for iteration, data in enumerate(kf.split(X), start=1):\n",
    "\n",
    "    data_train   = X[data[0]]\n",
    "    target_train = y[data[0]]\n",
    "\n",
    "    data_test    = X[data[1]]\n",
    "    target_test  = y[data[1]]\n",
    "    \n",
    "    # Create model architecture\n",
    "\n",
    "    model = Sequential()\n",
    "    model.add(Embedding(max_features, embed_dim, input_length=X.shape[1]))\n",
    "    model.add(SimpleRNN(units, dropout=0.8))\n",
    "    model.add(Dense(3,activation='softmax'))\n",
    "    # model.compile(loss = 'binary_crossentropy', optimizer='adam', metrics = ['accuracy'])\n",
    "\n",
    "    adam = optimizers.Adam(learning_rate = 0.0005)\n",
    "    model.compile(loss = 'categorical_crossentropy', optimizer = adam, metrics = ['accuracy'])\n",
    "\n",
    "    es = EarlyStopping(monitor='val_loss', mode='min', verbose=1, patience=2)\n",
    "    history = model.fit(X_train, y_train, epochs=50, batch_size=32, \n",
    "                        validation_data=(X_test, y_test), verbose=1, callbacks=[es])\n",
    "\n",
    "    predictions = model.predict(X_test)\n",
    "    y_pred = predictions\n",
    "\n",
    "    # for the current fold only\n",
    "    \n",
    "    accuracy = accuracy_score(y_test.argmax(axis=1), y_pred.argmax(axis=1))\n",
    "\n",
    "    print(\"Training ke-\", iteration)\n",
    "    print(classification_report(y_test.argmax(axis=1), y_pred.argmax(axis=1)))\n",
    "    print(\"======================================================\")\n",
    "\n",
    "    accuracies.append(accuracy)\n",
    "\n",
    "# this is the average accuracy over all folds\n",
    "\n",
    "average_accuracy = np.mean(accuracies)\n",
    "\n",
    "print()\n",
    "print()\n",
    "print()\n",
    "print(\"Rata-rata Accuracy: \", round(average_accuracy,4))"
   ]
  },
  {
   "cell_type": "markdown",
   "id": "c7ebb253",
   "metadata": {},
   "source": [
    "## Evaluation"
   ]
  },
  {
   "cell_type": "code",
   "execution_count": 10,
   "id": "d1d426d4",
   "metadata": {},
   "outputs": [
    {
     "data": {
      "image/png": "[encoded data removed]",
      "text/plain": [
       "<Figure size 1728x504 with 2 Axes>"
      ]
     },
     "metadata": {
      "needs_background": "light"
     },
     "output_type": "display_data"
    }
   ],
   "source": [
    "# Visualize it\n",
    "\n",
    "plt.style.use('ggplot')\n",
    "\n",
    "def plot_history(history):\n",
    "    acc = history.history['accuracy']\n",
    "    val_acc = history.history['val_accuracy']\n",
    "    loss = history.history['loss']\n",
    "    val_loss = history.history['val_loss']\n",
    "    x = range(1, len(acc) + 1)\n",
    "\n",
    "    plt.figure(figsize=(24, 7))\n",
    "    plt.subplot(1, 2, 1)\n",
    "    plt.plot(x, acc, 'b', label='Training acc')\n",
    "    plt.plot(x, val_acc, 'r', label='Validation acc')\n",
    "    plt.title('Training and validation accuracy')\n",
    "    plt.legend()\n",
    "    plt.subplot(1, 2, 2)\n",
    "    plt.plot(x, loss, 'b', label='Training loss')\n",
    "    plt.plot(x, val_loss, 'r', label='Validation loss')\n",
    "    plt.title('Training and validation loss')\n",
    "    plt.legend()\n",
    "\n",
    "%matplotlib inline\n",
    "plot_history(history)"
   ]
  },
  {
   "cell_type": "markdown",
   "id": "ba07f13c",
   "metadata": {},
   "source": [
    "- With 5 times cross validation, the model performance is stable at 79.22% accuracy\n",
    "- It can be seen that the performance with minimal loss occurred in the second epoch\n",
    "- Majority model training stopped after fifth epoch"
   ]
  },
  {
   "cell_type": "code",
   "execution_count": 11,
   "id": "e002453b",
   "metadata": {},
   "outputs": [
    {
     "name": "stdout",
     "output_type": "stream",
     "text": [
      "Model has created!\n"
     ]
    }
   ],
   "source": [
    "# Save the model\n",
    "\n",
    "model.save('model.h5')\n",
    "print(\"Model has created!\")"
   ]
  },
  {
   "cell_type": "markdown",
   "id": "6ef92be3",
   "metadata": {},
   "source": [
    "## Prediction"
   ]
  },
  {
   "cell_type": "code",
   "execution_count": 12,
   "id": "629f3507",
   "metadata": {},
   "outputs": [
    {
     "name": "stdout",
     "output_type": "stream",
     "text": [
      "1/1 [==============================] - 0s 238ms/step\n",
      "Text:  makanannya enak  \n",
      "Sentiment: positive\n"
     ]
    }
   ],
   "source": [
    "input_text = \"\"\"\n",
    "Makanannya enak  \"\"\"\n",
    "\n",
    "def cleansing(sent):\n",
    "    string = sent.lower()\n",
    "    string = re.sub(r'[^a-zA-Z0-9]', ' ', string)\n",
    "    return string\n",
    "\n",
    "sentiment = ['negative', 'neutral', 'positive']\n",
    "\n",
    "text = [cleansing(input_text)]\n",
    "predicted = tokenizer.texts_to_sequences(text)\n",
    "guess = pad_sequences(predicted, maxlen=X.shape[1])\n",
    "\n",
    "model = load_model('model.h5')\n",
    "prediction = model.predict(guess)\n",
    "polarity = np.argmax(prediction[0])\n",
    "hasil = sentiment[polarity]\n",
    "\n",
    "print(\"Text: %s\" % text[0])\n",
    "print(\"Sentiment: %s\" % sentiment[polarity])"
   ]
  },
  {
   "cell_type": "code",
   "execution_count": 13,
   "id": "db7592ea",
   "metadata": {},
   "outputs": [
    {
     "name": "stdout",
     "output_type": "stream",
     "text": [
      "1/1 [==============================] - 0s 295ms/step\n",
      "Text:  normal saja  \n",
      "Sentiment: negative\n"
     ]
    }
   ],
   "source": [
    "input_text = \"\"\"\n",
    "Normal saja  \"\"\"\n",
    "\n",
    "def cleansing(sent):\n",
    "    string = sent.lower()\n",
    "    string = re.sub(r'[^a-zA-Z0-9]', ' ', string)\n",
    "    return string\n",
    "\n",
    "sentiment = ['negative', 'neutral', 'positive']\n",
    "\n",
    "text = [cleansing(input_text)]\n",
    "predicted = tokenizer.texts_to_sequences(text)\n",
    "guess = pad_sequences(predicted, maxlen=X.shape[1])\n",
    "\n",
    "model = load_model('model.h5')\n",
    "prediction = model.predict(guess)\n",
    "polarity = np.argmax(prediction[0])\n",
    "hasil = sentiment[polarity]\n",
    "\n",
    "print(\"Text: %s\" % text[0])\n",
    "print(\"Sentiment: %s\" % sentiment[polarity])"
   ]
  }
 ],
 "metadata": {
  "kernelspec": {
   "display_name": "Python 3 (ipykernel)",
   "language": "python",
   "name": "python3"
  },
  "language_info": {
   "codemirror_mode": {
    "name": "ipython",
    "version": 3
   },
   "file_extension": ".py",
   "mimetype": "text/x-python",
   "name": "python",
   "nbconvert_exporter": "python",
   "pygments_lexer": "ipython3",
   "version": "3.9.12"
  }
 },
 "nbformat": 4,
 "nbformat_minor": 5
}
