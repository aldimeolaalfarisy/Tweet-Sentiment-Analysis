{
 "cells": [
  {
   "cell_type": "markdown",
   "id": "254631f5",
   "metadata": {},
   "source": [
    "# Long Short Term Memory Network (LSTM)"
   ]
  },
  {
   "cell_type": "markdown",
   "id": "b4276e1f",
   "metadata": {},
   "source": [
    "Long Short Term Memory network (LSTM) is a modification of the RNN. LSTM can process, predict, and classify information based on time series data. In accordance with the concept, LSTM can remember and delete old data that is no longer relevant. Thus, information management will be more complete and actual."
   ]
  },
  {
   "cell_type": "markdown",
   "id": "c4cd0e0c",
   "metadata": {},
   "source": [
    "![image](https://miro.medium.com/v2/resize:fit:720/format:webp/1*7cMfenu76BZCzdKWCfBABA.png)"
   ]
  },
  {
   "cell_type": "markdown",
   "id": "6658ef89",
   "metadata": {},
   "source": [
    "## Load Libraries and Dataset"
   ]
  },
  {
   "cell_type": "code",
   "execution_count": 1,
   "id": "09e35254",
   "metadata": {},
   "outputs": [],
   "source": [
    "# Import required libraries\n",
    "\n",
    "import pandas as pd\n",
    "import numpy as np\n",
    "import seaborn as sns\n",
    "import matplotlib.pyplot as plt\n",
    "import sqlite3\n",
    "import pickle\n",
    "from tensorflow.keras.preprocessing.text import Tokenizer\n",
    "from tensorflow.keras.preprocessing.sequence import pad_sequences\n",
    "from collections import defaultdict\n",
    "from sklearn.model_selection import train_test_split\n",
    "from tensorflow.keras import layers\n",
    "from tensorflow.keras.models import Sequential\n",
    "from tensorflow.keras.layers import Dense, Embedding, LSTM, SpatialDropout1D, SimpleRNN, Activation\n",
    "from tensorflow.keras import optimizers\n",
    "from tensorflow.keras.callbacks import EarlyStopping, TensorBoard\n",
    "from tensorflow.keras.layers import Flatten\n",
    "from tensorflow.keras import backend as K\n",
    "from sklearn import metrics\n",
    "from sklearn.metrics import classification_report\n",
    "from sklearn.metrics import accuracy_score\n",
    "from sklearn.model_selection import KFold\n",
    "from keras.models import load_model\n",
    "import re"
   ]
  },
  {
   "cell_type": "code",
   "execution_count": 2,
   "id": "98074304",
   "metadata": {},
   "outputs": [
    {
     "data": {
      "text/html": [
       "<div>\n",
       "<style scoped>\n",
       "    .dataframe tbody tr th:only-of-type {\n",
       "        vertical-align: middle;\n",
       "    }\n",
       "\n",
       "    .dataframe tbody tr th {\n",
       "        vertical-align: top;\n",
       "    }\n",
       "\n",
       "    .dataframe thead th {\n",
       "        text-align: right;\n",
       "    }\n",
       "</style>\n",
       "<table border=\"1\" class=\"dataframe\">\n",
       "  <thead>\n",
       "    <tr style=\"text-align: right;\">\n",
       "      <th></th>\n",
       "      <th>Tweet</th>\n",
       "      <th>Label</th>\n",
       "    </tr>\n",
       "  </thead>\n",
       "  <tbody>\n",
       "    <tr>\n",
       "      <th>0</th>\n",
       "      <td>warung ini dimiliki oleh pengusaha pabrik tahu...</td>\n",
       "      <td>positive</td>\n",
       "    </tr>\n",
       "    <tr>\n",
       "      <th>1</th>\n",
       "      <td>mohon ulama lurus dan k mmbri hujjah partai ap...</td>\n",
       "      <td>neutral</td>\n",
       "    </tr>\n",
       "    <tr>\n",
       "      <th>2</th>\n",
       "      <td>lokasi strategis di jalan sumatra bandung temp...</td>\n",
       "      <td>positive</td>\n",
       "    </tr>\n",
       "    <tr>\n",
       "      <th>3</th>\n",
       "      <td>betapa bahagia nya diri ini saat unboxing pake...</td>\n",
       "      <td>positive</td>\n",
       "    </tr>\n",
       "    <tr>\n",
       "      <th>4</th>\n",
       "      <td>aduh jadi mahasiswa jangan sombong dong kasih ...</td>\n",
       "      <td>negative</td>\n",
       "    </tr>\n",
       "  </tbody>\n",
       "</table>\n",
       "</div>"
      ],
      "text/plain": [
       "                                               Tweet     Label\n",
       "0  warung ini dimiliki oleh pengusaha pabrik tahu...  positive\n",
       "1  mohon ulama lurus dan k mmbri hujjah partai ap...   neutral\n",
       "2  lokasi strategis di jalan sumatra bandung temp...  positive\n",
       "3  betapa bahagia nya diri ini saat unboxing pake...  positive\n",
       "4  aduh jadi mahasiswa jangan sombong dong kasih ...  negative"
      ]
     },
     "execution_count": 2,
     "metadata": {},
     "output_type": "execute_result"
    }
   ],
   "source": [
    "# Load dataset from database\n",
    "\n",
    "db = sqlite3.connect('C:/Users/ASUS/Documents/Platinum Challenge/database.db', check_same_thread = False)\n",
    "q_data = 'SELECT * FROM data'\n",
    "data = pd.read_sql_query(q_data, db)\n",
    "data.head()"
   ]
  },
  {
   "cell_type": "code",
   "execution_count": 3,
   "id": "5f8aabe6",
   "metadata": {},
   "outputs": [
    {
     "data": {
      "text/plain": [
       "positive    6383\n",
       "negative    3412\n",
       "neutral     1138\n",
       "Name: Label, dtype: int64"
      ]
     },
     "execution_count": 3,
     "metadata": {},
     "output_type": "execute_result"
    }
   ],
   "source": [
    "# Data distribution check\n",
    "\n",
    "data['Label'].value_counts()"
   ]
  },
  {
   "cell_type": "markdown",
   "id": "b2abe03b",
   "metadata": {},
   "source": [
    "## Feature-Label Classification"
   ]
  },
  {
   "cell_type": "code",
   "execution_count": 4,
   "id": "c206c86f",
   "metadata": {},
   "outputs": [],
   "source": [
    "# Oversampling neutral label to be equal with negative label\n",
    "\n",
    "data_pos = data[data['Label']=='positive']\n",
    "data_neu = data[data['Label']=='neutral']\n",
    "data_neg = data[data['Label']=='negative']\n",
    "\n",
    "df_neu = data_neu.sample(data_neg.shape[0], replace = True)\n",
    "\n",
    "data = pd.concat([data_pos, df_neu, data_neg])\n",
    "\n",
    "# Group data tweet\n",
    "\n",
    "pos_tweet = data.loc[data['Label']=='positive'].Tweet.tolist()\n",
    "neg_tweet = data.loc[data['Label']=='negative'].Tweet.tolist()\n",
    "neu_tweet = data.loc[data['Label']=='neutral'].Tweet.tolist()\n",
    "\n",
    "# Group data label\n",
    "\n",
    "pos_label = data.loc[data['Label']=='positive'].Label.tolist()\n",
    "neg_label = data.loc[data['Label']=='negative'].Label.tolist()\n",
    "neu_label = data.loc[data['Label']=='neutral'].Label.tolist()"
   ]
  },
  {
   "cell_type": "code",
   "execution_count": 5,
   "id": "e04ebb7a",
   "metadata": {},
   "outputs": [
    {
     "name": "stdout",
     "output_type": "stream",
     "text": [
      "Positive: 6383, Neutral: 3412, Negative: 3412\n",
      "Total data: 13207\n",
      "Total labels: 13207\n"
     ]
    }
   ],
   "source": [
    "# Final sentiment data check\n",
    "\n",
    "total_data = pos_tweet + neg_tweet + neu_tweet\n",
    "labels = pos_label + neu_label + neg_label\n",
    "\n",
    "print(\"Positive: %s, Neutral: %s, Negative: %s\" % (len(pos_tweet), len(neu_tweet), len(neg_tweet)))\n",
    "print(\"Total data: %s\" % len(total_data))\n",
    "print(\"Total labels: %s\" % len(labels))"
   ]
  },
  {
   "cell_type": "markdown",
   "id": "a9ac6e5f",
   "metadata": {},
   "source": [
    "## Feature Extraction"
   ]
  },
  {
   "cell_type": "markdown",
   "id": "420e7939",
   "metadata": {},
   "source": [
    "Now we will perform feature extraction. The feature extraction that we do is the tokenizer (converts text into a sequence of integers or into a vector) and pad sequence (converts a list of sequences into a 2D vector/array). The feature extraction results will be stored with the help of the pickle library."
   ]
  },
  {
   "cell_type": "code",
   "execution_count": 6,
   "id": "bca677f6",
   "metadata": {},
   "outputs": [
    {
     "name": "stdout",
     "output_type": "stream",
     "text": [
      "tokenizer.pickle has created!\n",
      "x_pad_sequences.pickle has created!\n"
     ]
    }
   ],
   "source": [
    "# Tokenizer and pad sequence\n",
    "\n",
    "max_features = 100000\n",
    "tokenizer = Tokenizer(num_words=max_features, split=' ', lower=True)\n",
    "tokenizer.fit_on_texts(total_data)\n",
    "with open('tokenizer.pickle', 'wb') as handle:\n",
    "    pickle.dump(tokenizer, handle, protocol=pickle.HIGHEST_PROTOCOL)\n",
    "    print(\"tokenizer.pickle has created!\")\n",
    "\n",
    "X = tokenizer.texts_to_sequences(total_data)\n",
    "\n",
    "vocab_size = len(tokenizer.word_index)\n",
    "maxlen = max(len(x) for x in X)\n",
    "\n",
    "X = pad_sequences(X)\n",
    "with open('x_pad_sequences.pickle', 'wb') as handle:\n",
    "    pickle.dump(X, handle, protocol=pickle.HIGHEST_PROTOCOL)\n",
    "    print(\"x_pad_sequences.pickle has created!\")"
   ]
  },
  {
   "cell_type": "code",
   "execution_count": 7,
   "id": "5bea8943",
   "metadata": {},
   "outputs": [
    {
     "name": "stdout",
     "output_type": "stream",
     "text": [
      "y_labels.pickle has created!\n"
     ]
    }
   ],
   "source": [
    "# Feature extraction for labels\n",
    "\n",
    "Y = pd.get_dummies(labels)\n",
    "Y = Y.values\n",
    "\n",
    "with open('y_labels.pickle', 'wb') as handle:\n",
    "    pickle.dump(Y, handle, protocol=pickle.HIGHEST_PROTOCOL)\n",
    "    print(\"y_labels.pickle has created!\")"
   ]
  },
  {
   "cell_type": "markdown",
   "id": "c4f00b64",
   "metadata": {},
   "source": [
    "## Train-Test Data Split"
   ]
  },
  {
   "cell_type": "markdown",
   "id": "b6460098",
   "metadata": {},
   "source": [
    "Now we prepare a train and test dataset with split train and test data for training and testing the dataset."
   ]
  },
  {
   "cell_type": "code",
   "execution_count": 8,
   "id": "70e99d57",
   "metadata": {},
   "outputs": [],
   "source": [
    "# Split train-test data with proportion 80:20\n",
    "\n",
    "file = open(\"x_pad_sequences.pickle\",'rb')\n",
    "X = pickle.load(file)\n",
    "file.close()\n",
    "\n",
    "file = open(\"y_labels.pickle\",'rb')\n",
    "Y = pickle.load(file)\n",
    "file.close()\n",
    "\n",
    "X_train, X_test, y_train, y_test = train_test_split(X, Y, test_size=0.2, random_state=42)"
   ]
  },
  {
   "cell_type": "markdown",
   "id": "1e5c5e43",
   "metadata": {},
   "source": [
    "## Model Training"
   ]
  },
  {
   "cell_type": "markdown",
   "id": "d605c4a6",
   "metadata": {},
   "source": [
    "Next, we'll do model training using the LSTM algorithm. Then we also do cross validation 5 times to check performance stability."
   ]
  },
  {
   "cell_type": "code",
   "execution_count": 9,
   "id": "bbe1316a",
   "metadata": {
    "scrolled": false
   },
   "outputs": [
    {
     "name": "stdout",
     "output_type": "stream",
     "text": [
      "Epoch 1/50\n",
      "331/331 [==============================] - 69s 198ms/step - loss: 0.6339 - accuracy: 0.7350 - val_loss: 0.3583 - val_accuracy: 0.8690\n",
      "Epoch 2/50\n",
      "331/331 [==============================] - 63s 192ms/step - loss: 0.2854 - accuracy: 0.9015 - val_loss: 0.2639 - val_accuracy: 0.9027\n",
      "Epoch 3/50\n",
      "331/331 [==============================] - 63s 189ms/step - loss: 0.1734 - accuracy: 0.9399 - val_loss: 0.2452 - val_accuracy: 0.9126\n",
      "Epoch 4/50\n",
      "331/331 [==============================] - 63s 189ms/step - loss: 0.1254 - accuracy: 0.9577 - val_loss: 0.2551 - val_accuracy: 0.9095\n",
      "Epoch 5/50\n",
      "331/331 [==============================] - 64s 193ms/step - loss: 0.0921 - accuracy: 0.9678 - val_loss: 0.2447 - val_accuracy: 0.9122\n",
      "Epoch 6/50\n",
      "331/331 [==============================] - 63s 192ms/step - loss: 0.0715 - accuracy: 0.9745 - val_loss: 0.2766 - val_accuracy: 0.9111\n",
      "Epoch 7/50\n",
      "331/331 [==============================] - 64s 192ms/step - loss: 0.0589 - accuracy: 0.9787 - val_loss: 0.2999 - val_accuracy: 0.9050\n",
      "Epoch 7: early stopping\n",
      "83/83 [==============================] - 2s 11ms/step\n",
      "Training ke- 1\n",
      "              precision    recall  f1-score   support\n",
      "\n",
      "           0       0.93      0.97      0.95       662\n",
      "           1       0.88      0.79      0.83       709\n",
      "           2       0.90      0.93      0.92      1271\n",
      "\n",
      "    accuracy                           0.90      2642\n",
      "   macro avg       0.91      0.90      0.90      2642\n",
      "weighted avg       0.90      0.90      0.90      2642\n",
      "\n",
      "======================================================\n",
      "Epoch 1/50\n",
      "331/331 [==============================] - 66s 189ms/step - loss: 0.6151 - accuracy: 0.7381 - val_loss: 0.3775 - val_accuracy: 0.8637\n",
      "Epoch 2/50\n",
      "331/331 [==============================] - 62s 187ms/step - loss: 0.2722 - accuracy: 0.9032 - val_loss: 0.2841 - val_accuracy: 0.8970\n",
      "Epoch 3/50\n",
      "331/331 [==============================] - 62s 188ms/step - loss: 0.1670 - accuracy: 0.9423 - val_loss: 0.3084 - val_accuracy: 0.8880\n",
      "Epoch 4/50\n",
      "331/331 [==============================] - 62s 188ms/step - loss: 0.1176 - accuracy: 0.9596 - val_loss: 0.2746 - val_accuracy: 0.9148\n",
      "Epoch 5/50\n",
      "331/331 [==============================] - 63s 192ms/step - loss: 0.0905 - accuracy: 0.9683 - val_loss: 0.2765 - val_accuracy: 0.9114\n",
      "Epoch 6/50\n",
      "331/331 [==============================] - 62s 187ms/step - loss: 0.0713 - accuracy: 0.9741 - val_loss: 0.2889 - val_accuracy: 0.9118\n",
      "Epoch 6: early stopping\n",
      "83/83 [==============================] - 1s 12ms/step\n",
      "Training ke- 2\n",
      "              precision    recall  f1-score   support\n",
      "\n",
      "           0       1.00      1.00      1.00       662\n",
      "           1       0.97      0.97      0.97       709\n",
      "           2       0.98      0.98      0.98      1271\n",
      "\n",
      "    accuracy                           0.98      2642\n",
      "   macro avg       0.98      0.98      0.98      2642\n",
      "weighted avg       0.98      0.98      0.98      2642\n",
      "\n",
      "======================================================\n",
      "Epoch 1/50\n",
      "331/331 [==============================] - 66s 190ms/step - loss: 0.6301 - accuracy: 0.7461 - val_loss: 0.3868 - val_accuracy: 0.8656\n",
      "Epoch 2/50\n",
      "331/331 [==============================] - 63s 189ms/step - loss: 0.2761 - accuracy: 0.9020 - val_loss: 0.3002 - val_accuracy: 0.8887\n",
      "Epoch 3/50\n",
      "331/331 [==============================] - 63s 189ms/step - loss: 0.1756 - accuracy: 0.9397 - val_loss: 0.2648 - val_accuracy: 0.8981\n",
      "Epoch 4/50\n",
      "331/331 [==============================] - 69s 209ms/step - loss: 0.1200 - accuracy: 0.9589 - val_loss: 0.2648 - val_accuracy: 0.8997\n",
      "Epoch 5/50\n",
      "331/331 [==============================] - 65s 197ms/step - loss: 0.0886 - accuracy: 0.9693 - val_loss: 0.3071 - val_accuracy: 0.9016\n",
      "Epoch 5: early stopping\n",
      "83/83 [==============================] - 2s 12ms/step\n",
      "Training ke- 3\n",
      "              precision    recall  f1-score   support\n",
      "\n",
      "           0       1.00      1.00      1.00       662\n",
      "           1       0.96      0.95      0.96       709\n",
      "           2       0.97      0.98      0.98      1271\n",
      "\n",
      "    accuracy                           0.98      2642\n",
      "   macro avg       0.98      0.98      0.98      2642\n",
      "weighted avg       0.98      0.98      0.98      2642\n",
      "\n",
      "======================================================\n",
      "Epoch 1/50\n",
      "331/331 [==============================] - 77s 223ms/step - loss: 0.6472 - accuracy: 0.7223 - val_loss: 0.3781 - val_accuracy: 0.8652\n",
      "Epoch 2/50\n",
      "331/331 [==============================] - 69s 207ms/step - loss: 0.2853 - accuracy: 0.9013 - val_loss: 0.2825 - val_accuracy: 0.8940\n",
      "Epoch 3/50\n",
      "331/331 [==============================] - 69s 208ms/step - loss: 0.1799 - accuracy: 0.9372 - val_loss: 0.2632 - val_accuracy: 0.8978\n",
      "Epoch 4/50\n",
      "331/331 [==============================] - 68s 205ms/step - loss: 0.1276 - accuracy: 0.9565 - val_loss: 0.2556 - val_accuracy: 0.9008\n",
      "Epoch 5/50\n",
      "331/331 [==============================] - 69s 207ms/step - loss: 0.0943 - accuracy: 0.9667 - val_loss: 0.2702 - val_accuracy: 0.9084\n",
      "Epoch 6/50\n",
      "331/331 [==============================] - 69s 209ms/step - loss: 0.0703 - accuracy: 0.9726 - val_loss: 0.2938 - val_accuracy: 0.9046\n",
      "Epoch 6: early stopping\n",
      "83/83 [==============================] - 2s 14ms/step\n",
      "Training ke- 4\n",
      "              precision    recall  f1-score   support\n",
      "\n",
      "           0       1.00      1.00      1.00       662\n",
      "           1       0.96      0.96      0.96       709\n",
      "           2       0.98      0.98      0.98      1271\n",
      "\n",
      "    accuracy                           0.98      2642\n",
      "   macro avg       0.98      0.98      0.98      2642\n",
      "weighted avg       0.98      0.98      0.98      2642\n",
      "\n",
      "======================================================\n",
      "Epoch 1/50\n",
      "331/331 [==============================] - 77s 220ms/step - loss: 0.6414 - accuracy: 0.7288 - val_loss: 0.3936 - val_accuracy: 0.8675\n",
      "Epoch 2/50\n",
      "331/331 [==============================] - 70s 213ms/step - loss: 0.2956 - accuracy: 0.8943 - val_loss: 0.2729 - val_accuracy: 0.9012\n",
      "Epoch 3/50\n",
      "331/331 [==============================] - 72s 219ms/step - loss: 0.1820 - accuracy: 0.9363 - val_loss: 0.2467 - val_accuracy: 0.9125\n",
      "Epoch 4/50\n",
      "331/331 [==============================] - 72s 219ms/step - loss: 0.1271 - accuracy: 0.9566 - val_loss: 0.2381 - val_accuracy: 0.9140\n",
      "Epoch 5/50\n",
      "331/331 [==============================] - 64s 193ms/step - loss: 0.0980 - accuracy: 0.9665 - val_loss: 0.2452 - val_accuracy: 0.9205\n",
      "Epoch 6/50\n",
      "331/331 [==============================] - 67s 201ms/step - loss: 0.0787 - accuracy: 0.9717 - val_loss: 0.2908 - val_accuracy: 0.9065\n",
      "Epoch 6: early stopping\n",
      "83/83 [==============================] - 1s 12ms/step\n",
      "Training ke- 5\n",
      "              precision    recall  f1-score   support\n",
      "\n",
      "           0       1.00      1.00      1.00       662\n",
      "           1       0.94      0.99      0.96       709\n",
      "           2       0.99      0.97      0.98      1271\n",
      "\n",
      "    accuracy                           0.98      2642\n",
      "   macro avg       0.98      0.98      0.98      2642\n",
      "weighted avg       0.98      0.98      0.98      2642\n",
      "\n",
      "======================================================\n",
      "\n",
      "\n",
      "\n",
      "Rata-rata Accuracy:  0.965\n"
     ]
    }
   ],
   "source": [
    "##### Model training and cross validation\n",
    "\n",
    "kf = KFold(n_splits=5,random_state=42,shuffle=True)\n",
    "\n",
    "accuracies = []\n",
    "\n",
    "y = Y\n",
    "\n",
    "embed_dim = 100\n",
    "units = 64\n",
    "\n",
    "for iteration, data in enumerate(kf.split(X), start=1):\n",
    "\n",
    "    data_train   = X[data[0]]\n",
    "    target_train = y[data[0]]\n",
    "\n",
    "    data_test    = X[data[1]]\n",
    "    target_test  = y[data[1]]\n",
    "    \n",
    "    # Create model architecture\n",
    "\n",
    "    model = Sequential()\n",
    "    model.add(Embedding(max_features, embed_dim, input_length=X.shape[1]))\n",
    "    model.add(LSTM(units, dropout=0.5))\n",
    "    model.add(Dense(3,activation='softmax'))\n",
    "    # model.compile(loss = 'binary_crossentropy', optimizer='adam', metrics = ['accuracy'])\n",
    "\n",
    "    adam = optimizers.Adam(learning_rate = 0.0005)\n",
    "    model.compile(loss = 'categorical_crossentropy', optimizer = adam, metrics = ['accuracy'])\n",
    "\n",
    "    es = EarlyStopping(monitor='val_loss', mode='min', verbose=1, patience=2)\n",
    "    history = model.fit(data_train, target_train, epochs=50, batch_size=32, \n",
    "                        validation_data=(data_test, target_test), verbose=1, callbacks=[es])\n",
    "\n",
    "    predictions = model.predict(X_test)\n",
    "    y_pred = predictions\n",
    "\n",
    "    # for the current fold only\n",
    "    \n",
    "    accuracy = accuracy_score(y_test.argmax(axis=1), y_pred.argmax(axis=1))\n",
    "\n",
    "    print(\"Training ke-\", iteration)\n",
    "    print(classification_report(y_test.argmax(axis=1), y_pred.argmax(axis=1)))\n",
    "    print(\"======================================================\")\n",
    "\n",
    "    accuracies.append(accuracy)\n",
    "\n",
    "# this is the average accuracy over all folds\n",
    "\n",
    "average_accuracy = np.mean(accuracies)\n",
    "\n",
    "print()\n",
    "print()\n",
    "print()\n",
    "print(\"Rata-rata Accuracy: \", round(average_accuracy,4))"
   ]
  },
  {
   "cell_type": "markdown",
   "id": "c7ebb253",
   "metadata": {},
   "source": [
    "## Evaluation"
   ]
  },
  {
   "cell_type": "code",
   "execution_count": 10,
   "id": "68c6496c",
   "metadata": {},
   "outputs": [
    {
     "data": {
      "image/png": "[encoded data removed]",
      "text/plain": [
       "<Figure size 1728x504 with 2 Axes>"
      ]
     },
     "metadata": {
      "needs_background": "light"
     },
     "output_type": "display_data"
    }
   ],
   "source": [
    "# Visualize it\n",
    "\n",
    "plt.style.use('ggplot')\n",
    "\n",
    "def plot_history(history):\n",
    "    acc = history.history['accuracy']\n",
    "    val_acc = history.history['val_accuracy']\n",
    "    loss = history.history['loss']\n",
    "    val_loss = history.history['val_loss']\n",
    "    x = range(1, len(acc) + 1)\n",
    "\n",
    "    plt.figure(figsize=(24, 7))\n",
    "    plt.subplot(1, 2, 1)\n",
    "    plt.plot(x, acc, 'b', label='Training acc')\n",
    "    plt.plot(x, val_acc, 'r', label='Validation acc')\n",
    "    plt.title('Training and validation accuracy')\n",
    "    plt.legend()\n",
    "    plt.subplot(1, 2, 2)\n",
    "    plt.plot(x, loss, 'b', label='Training loss')\n",
    "    plt.plot(x, val_loss, 'r', label='Validation loss')\n",
    "    plt.title('Training and validation loss')\n",
    "    plt.legend()\n",
    "\n",
    "%matplotlib inline\n",
    "plot_history(history)"
   ]
  },
  {
   "cell_type": "markdown",
   "id": "ba07f13c",
   "metadata": {},
   "source": [
    "- With 5 times cross validation, the model performance is stable at 96.5% accuracy\n",
    "- It can be seen that the performance with minimal loss occurred in the second epoch\n",
    "- Majority model training stopped after sixth epoch"
   ]
  },
  {
   "cell_type": "code",
   "execution_count": 11,
   "id": "9628d7c8",
   "metadata": {},
   "outputs": [
    {
     "name": "stdout",
     "output_type": "stream",
     "text": [
      "Model has created!\n"
     ]
    }
   ],
   "source": [
    "# Save the model\n",
    "\n",
    "model.save('model.h5')\n",
    "print(\"Model has created!\")"
   ]
  },
  {
   "cell_type": "markdown",
   "id": "6ef92be3",
   "metadata": {},
   "source": [
    "## Prediction"
   ]
  },
  {
   "cell_type": "code",
   "execution_count": 12,
   "id": "2de025dc",
   "metadata": {},
   "outputs": [
    {
     "name": "stdout",
     "output_type": "stream",
     "text": [
      "1/1 [==============================] - 1s 515ms/step\n",
      "Text:  makanannya enak  \n",
      "Sentiment: positive\n"
     ]
    }
   ],
   "source": [
    "input_text = \"\"\"\n",
    "Makanannya enak  \"\"\"\n",
    "\n",
    "def cleansing(sent):\n",
    "    string = sent.lower()\n",
    "    string = re.sub(r'[^a-zA-Z0-9]', ' ', string)\n",
    "    return string\n",
    "\n",
    "sentiment = ['negative', 'neutral', 'positive']\n",
    "\n",
    "text = [cleansing(input_text)]\n",
    "predicted = tokenizer.texts_to_sequences(text)\n",
    "guess = pad_sequences(predicted, maxlen=X.shape[1])\n",
    "\n",
    "model = load_model('model.h5')\n",
    "prediction = model.predict(guess)\n",
    "polarity = np.argmax(prediction[0])\n",
    "hasil = sentiment[polarity]\n",
    "\n",
    "print(\"Text: %s\" % text[0])\n",
    "print(\"Sentiment: %s\" % sentiment[polarity])"
   ]
  },
  {
   "cell_type": "code",
   "execution_count": 13,
   "id": "597a5ce6",
   "metadata": {},
   "outputs": [
    {
     "name": "stdout",
     "output_type": "stream",
     "text": [
      "1/1 [==============================] - 1s 503ms/step\n",
      "Text:  normal saja  \n",
      "Sentiment: neutral\n"
     ]
    }
   ],
   "source": [
    "input_text = \"\"\"\n",
    "Normal saja  \"\"\"\n",
    "\n",
    "def cleansing(sent):\n",
    "    string = sent.lower()\n",
    "    string = re.sub(r'[^a-zA-Z0-9]', ' ', string)\n",
    "    return string\n",
    "\n",
    "sentiment = ['negative', 'neutral', 'positive']\n",
    "\n",
    "text = [cleansing(input_text)]\n",
    "predicted = tokenizer.texts_to_sequences(text)\n",
    "guess = pad_sequences(predicted, maxlen=X.shape[1])\n",
    "\n",
    "model = load_model('model.h5')\n",
    "prediction = model.predict(guess)\n",
    "polarity = np.argmax(prediction[0])\n",
    "hasil = sentiment[polarity]\n",
    "\n",
    "print(\"Text: %s\" % text[0])\n",
    "print(\"Sentiment: %s\" % sentiment[polarity])"
   ]
  }
 ],
 "metadata": {
  "kernelspec": {
   "display_name": "Python 3 (ipykernel)",
   "language": "python",
   "name": "python3"
  },
  "language_info": {
   "codemirror_mode": {
    "name": "ipython",
    "version": 3
   },
   "file_extension": ".py",
   "mimetype": "text/x-python",
   "name": "python",
   "nbconvert_exporter": "python",
   "pygments_lexer": "ipython3",
   "version": "3.9.12"
  }
 },
 "nbformat": 4,
 "nbformat_minor": 5
}
